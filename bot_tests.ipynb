{
 "cells": [
  {
   "cell_type": "markdown",
   "metadata": {},
   "source": [
    "# Bot Test"
   ]
  },
  {
   "cell_type": "code",
   "execution_count": 12,
   "metadata": {},
   "outputs": [
    {
     "name": "stdout",
     "output_type": "stream",
     "text": [
      "{'bot_answer': 'The mask of drought, where rivers cease to flow,\\\\nAnd thirsty earth forgets the rain it sowed. \\n'}\n"
     ]
    }
   ],
   "source": [
    "# OpenAI Test\n",
    "\n",
    "import requests\n",
    "import json\n",
    "\n",
    "# Define the URL of the endpoint\n",
    "url = \"http://localhost:7000/ask_bot\"\n",
    "# url = \"https://binaryoracle.dftp.live/ask_bot\"\n",
    "\n",
    "# Define the parameters to send to the endpoint\n",
    "data = {\n",
    "    # \"platform\": \"OPENAI\", # or \"GEMINI\"\n",
    "    \"platform\" : \"GEMINI\",\n",
    "    \"target_chatbot\": \"BOT_1\", # \"BOT_1\" or \"BOT_2\" or \"BOT_3\"\n",
    "    \"user_question\": \"What mask must I discard in order to see my true reflection?\"\n",
    "}\n",
    "\n",
    "# Send the POST request to the endpoint\n",
    "response = requests.post(url, json=data)\n",
    "\n",
    "# Print the response\n",
    "print(json.loads(response.text))"
   ]
  },
  {
   "cell_type": "code",
   "execution_count": null,
   "metadata": {},
   "outputs": [],
   "source": []
  }
 ],
 "metadata": {
  "kernelspec": {
   "display_name": "boracle",
   "language": "python",
   "name": "python3"
  },
  "language_info": {
   "codemirror_mode": {
    "name": "ipython",
    "version": 3
   },
   "file_extension": ".py",
   "mimetype": "text/x-python",
   "name": "python",
   "nbconvert_exporter": "python",
   "pygments_lexer": "ipython3",
   "version": "3.11.8"
  }
 },
 "nbformat": 4,
 "nbformat_minor": 2
}
